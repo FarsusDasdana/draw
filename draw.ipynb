{
  "nbformat": 4,
  "nbformat_minor": 0,
  "metadata": {
    "colab": {
      "provenance": [],
      "collapsed_sections": []
    },
    "kernelspec": {
      "name": "python3",
      "display_name": "Python 3"
    },
    "language_info": {
      "name": "python"
    }
  },
  "cells": [
    {
      "cell_type": "code",
      "execution_count": 1,
      "metadata": {
        "id": "mJYCkX1uEQpF"
      },
      "outputs": [],
      "source": [
        "# import libraries\n",
        "import pandas as pd\n",
        "import random"
      ]
    },
    {
      "cell_type": "code",
      "source": [
        "# create function\n",
        "def kura(names:list, sample_size:int=2, seed:int=52):\n",
        "  random.seed(seed)\n",
        "\n",
        "  grp_list = []\n",
        "  while len(names) > sample_size:\n",
        "    grp = random.sample(names, sample_size)\n",
        "    grp_list.append(grp)\n",
        "    names = list(set(names) - set(grp))\n",
        "  grp_list.append(names)\n",
        "  return grp_list"
      ],
      "metadata": {
        "id": "uaILZk-oG0Ci"
      },
      "execution_count": 2,
      "outputs": []
    },
    {
      "cell_type": "code",
      "source": [
        "# participant list\n",
        "names = ['daenerys','sansa','jon','tyrion','joffrey','arya','ramsey','night king']\n",
        "\n",
        "# roll the dice!\n",
        "kura(names)"
      ],
      "metadata": {
        "colab": {
          "base_uri": "https://localhost:8080/"
        },
        "id": "WM_guzkdGo8f",
        "outputId": "9c1ca29b-370d-4f46-d8b1-13dbc1f452b6"
      },
      "execution_count": 3,
      "outputs": [
        {
          "output_type": "execute_result",
          "data": {
            "text/plain": [
              "[['joffrey', 'daenerys'],\n",
              " ['arya', 'tyrion'],\n",
              " ['night king', 'jon'],\n",
              " ['ramsey', 'sansa']]"
            ]
          },
          "metadata": {},
          "execution_count": 3
        }
      ]
    }
  ]
}